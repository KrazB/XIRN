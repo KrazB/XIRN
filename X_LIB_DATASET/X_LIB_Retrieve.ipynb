{
 "cells": [
  {
   "cell_type": "code",
   "execution_count": 1,
   "id": "aea96e04",
   "metadata": {},
   "outputs": [],
   "source": [
    "import pandas as pd\n",
    "import numpy as np\n",
    "from sklearn.metrics import classification_report\n",
    "from sklearn.feature_extraction.text import TfidfVectorizer, CountVectorizer\n",
    "from sklearn.preprocessing import LabelEncoder, StandardScaler\n",
    "from sklearn.model_selection import GridSearchCV, cross_val_score\n",
    "from sklearn.linear_model import LogisticRegression\n",
    "from sklearn.svm import SVC\n",
    "from sklearn.ensemble import RandomForestClassifier, GradientBoostingClassifier\n",
    "from sklearn.pipeline import Pipeline\n",
    "from sklearn.compose import ColumnTransformer\n",
    "import joblib\n",
    "from scipy.sparse import hstack\n",
    "from lightgbm import LGBMClassifier\n",
    "from sentence_transformers import SentenceTransformer\n",
    "import concurrent.futures\n",
    "import os"
   ]
  },
  {
   "cell_type": "markdown",
   "id": "0c1957f4",
   "metadata": {},
   "source": [
    "# Loading Data & Data Exploratory"
   ]
  },
  {
   "cell_type": "code",
   "execution_count": 2,
   "id": "86fa9ff0",
   "metadata": {},
   "outputs": [],
   "source": [
    "data_og= pd.read_csv(\"/Users/irenie/Downloads/X_LIB_R1 REOL(X_MAP_R1 REOL).csv\",encoding='latin1')\n",
    "data = data_og.dropna(subset=[\"X_OBJ Name\", \"Uniclass Systems\"]).reset_index(drop=True)"
   ]
  },
  {
   "cell_type": "code",
   "execution_count": 3,
   "id": "29b579fb",
   "metadata": {},
   "outputs": [],
   "source": [
    "# Extract the code (prefix like Ss_XX_XX) from the beginning\n",
    "data[['Uniclass_Code', 'Uniclass_Name']] = data['Uniclass Systems'].str.extract(r'^([A-Za-z]{2}_\\d{2}(?:_\\d{2}){0,3})\\s+(.*)$')\n",
    "\n",
    "# Clean up any trailing short codes in parentheses from the name\n",
    "data['Uniclass_Name'] = data['Uniclass_Name'].str.replace(r'\\s*\\([^)]*\\)', '', regex=True).str.strip()\n",
    "\n",
    "# Show sample of parsed values\n",
    "data[['Uniclass Systems', 'Uniclass_Code', 'Uniclass_Name']].dropna().head(10)\n",
    "\n",
    "data.drop(columns = ['Uniclass Code'], inplace=True)"
   ]
  },
  {
   "cell_type": "code",
   "execution_count": 4,
   "id": "5c5db53a",
   "metadata": {},
   "outputs": [],
   "source": [
    "#Create parent code for stratification\n",
    "data['parent_code'] = data['Uniclass_Code'].apply(lambda x: \"_\".join(x.split(\"_\")[:2])) "
   ]
  },
  {
   "cell_type": "markdown",
   "id": "ce8097ea",
   "metadata": {},
   "source": [
    "# Drop heavy-null columns > 50%"
   ]
  },
  {
   "cell_type": "code",
   "execution_count": 5,
   "id": "d6eb22e4",
   "metadata": {},
   "outputs": [
    {
     "name": "stdout",
     "output_type": "stream",
     "text": [
      "Null percentage by column:\n",
      "Omniclass 22 - 15    100.0\n",
      "Omniclass 21 - 10    100.0\n",
      "Omniclass 21 - 11    100.0\n",
      "Omniclass 21 - 12    100.0\n",
      "Revit Family         100.0\n",
      "                     ...  \n",
      "OD2_Subdiscipline      0.0\n",
      "Uniclass Products      0.0\n",
      "Uniclass Elements      0.0\n",
      "Omniclass 21           0.0\n",
      "parent_code            0.0\n",
      "Length: 104, dtype: float64\n",
      "\n",
      "Columns dropped: ['Object Type2', 'Suggested Description', 'Suggested LOD', 'IFC Suggested Primary Discipline', 'Revit Category - 1', 'Revit Category - 2', 'Revit Family', 'OD1_Discipline Order', 'ICMS Construction', 'ICMS Renewal', 'ICMS Maintenance', 'Uniclass Products - 1', 'Uniclass Products - 2', 'Uniclass Products - 3', 'Uniclass Products - 4', 'Uniclass Products - 5', 'Uniclass Products - 6', 'Uniclass Products - 7', 'Uniclass Products - 8', 'Uniclass Elements - 1', 'Uniclass Elements - 2', 'Uniclass Elements - 3', 'Omniclass 21 - 1', 'Omniclass 21 - 2', 'Omniclass 21 - 3', 'Omniclass 21 - 4', 'Omniclass 21 - 5', 'Omniclass 21 - 6', 'Omniclass 21 - 7', 'Omniclass 21 - 8', 'Omniclass 21 - 9', 'Omniclass 21 - 10', 'Omniclass 21 - 11', 'Omniclass 21 - 12', 'Omniclass 21 - 13', 'Omniclass 21 - 14', 'Omniclass 21 - 15', 'Omniclass 22 - 1', 'Omniclass 22 - 2', 'Omniclass 22 - 3', 'Omniclass 22 - 4', 'Omniclass 22 - 5', 'Omniclass 22 - 6', 'Omniclass 22 - 7', 'Omniclass 22 - 8', 'Omniclass 22 - 9', 'Omniclass 22 - 10', 'Omniclass 22 - 11', 'Omniclass 22 - 12', 'Omniclass 22 - 13', 'Omniclass 22 - 14', 'Omniclass 22 - 15', 'Omniclass 22 - 16', 'Omniclass 22 - 17', 'Omniclass 23 - 1', 'Omniclass 23 - 2', 'Omniclass 23 - 3', 'Omniclass 23 - 4', 'Omniclass 23 - 5', 'Omniclass 23 - 6', 'Omniclass 23 - 7', 'Omniclass 23 - 8', 'Omniclass 23 - 9', 'Omniclass 23 - 10', 'Omniclass 23 - 11', 'Omniclass 23 - 12', 'Omniclass 23 - 13', 'Omniclass 23 - 14', 'Omniclass 23 - 15', 'Omniclass 23 - 16', 'Omniclass 23 - 17', 'Omniclass 23 - 18']\n",
      "Columns dropped count: 72\n",
      "Remain data shape: (3574, 32)\n"
     ]
    }
   ],
   "source": [
    "# Calculate null percentage for each column\n",
    "null_percentage = (data.isnull().sum() / len(data)) * 100\n",
    "\n",
    "# Display null percentages\n",
    "print(\"Null percentage by column:\")\n",
    "print(null_percentage.sort_values(ascending=False))\n",
    "\n",
    "# Drop columns with more than X% null values (e.g., 50%)\n",
    "threshold = 50  \n",
    "columns_to_drop = null_percentage[null_percentage > threshold].index\n",
    "data = data.drop(columns=columns_to_drop)\n",
    "\n",
    "print(f\"\\nColumns dropped: {list(columns_to_drop)}\")\n",
    "print(f\"Columns dropped count: {len(columns_to_drop)}\")\n",
    "print(f'Remain data shape: {data.shape}')"
   ]
  },
  {
   "cell_type": "code",
   "execution_count": 6,
   "id": "bdea0ab5",
   "metadata": {},
   "outputs": [
    {
     "data": {
      "text/plain": [
       "<bound method IndexOpsMixin.tolist of Index(['X_OBJ IfcClass', 'X_OBJ Name', 'X_OBJ Type', 'X_OBJ UoM',\n",
       "       'X_IsExternal', 'X_LoadBearing', 'X_FireRated', 'X_OBJ Keyword',\n",
       "       'PPK Active Object', 'Object Description', 'Uniclass Systems Path',\n",
       "       'Uniclass Systems', 'Count Code', 'PPK Active Task',\n",
       "       ' PPK Active Construction Verb ', 'Object Number', 'IfcClass.Type',\n",
       "       'IfcClass', 'IfcEnumerationType', 'Revit Category', 'OD0_Project Type',\n",
       "       'OD1_Discipline', 'OD1_Discipline Split', 'OD2_Subdiscipline',\n",
       "       'Uniclass Products', 'Uniclass Elements', 'Omniclass 21',\n",
       "       'Omniclass 22', 'Omniclass 23', 'Uniclass_Code', 'Uniclass_Name',\n",
       "       'parent_code'],\n",
       "      dtype='object')>"
      ]
     },
     "execution_count": 6,
     "metadata": {},
     "output_type": "execute_result"
    }
   ],
   "source": [
    "data.columns.to_list"
   ]
  },
  {
   "cell_type": "code",
   "execution_count": 7,
   "id": "b8ff46bf",
   "metadata": {},
   "outputs": [
    {
     "name": "stdout",
     "output_type": "stream",
     "text": [
      "Text Column Usefulness Evaluation                             Column  Non-Null Count  Unique Values  \\\n",
      "8                PPK Active Object            3574           2804   \n",
      "11                 PPK Active Task            3574           2821   \n",
      "9               Object Description            3574           3574   \n",
      "7                    X_OBJ Keyword            3574           3570   \n",
      "1                       X_OBJ Name            3574           1322   \n",
      "13                   IfcClass.Type            3574            652   \n",
      "10           Uniclass Systems Path            3542            539   \n",
      "14                        IfcClass            3574            119   \n",
      "0                   X_OBJ IfcClass            3574            119   \n",
      "20               OD2_Subdiscipline            3574            144   \n",
      "16                  Revit Category            3574             64   \n",
      "19            OD1_Discipline Split            3574             47   \n",
      "2                       X_OBJ Type            3574           2665   \n",
      "18                  OD1_Discipline            3574              8   \n",
      "15              IfcEnumerationType            3574            548   \n",
      "3                        X_OBJ UoM            3574              5   \n",
      "4                     X_IsExternal            3574              3   \n",
      "12   PPK Active Construction Verb             3574              8   \n",
      "6                      X_FireRated            3574              2   \n",
      "21               Uniclass Products            3574            298   \n",
      "24                    Omniclass 22            3574            247   \n",
      "22               Uniclass Elements            3574             80   \n",
      "23                    Omniclass 21            3574            126   \n",
      "25                    Omniclass 23            3574            317   \n",
      "17                OD0_Project Type            3574             54   \n",
      "5                    X_LoadBearing            3574              3   \n",
      "\n",
      "    Avg Word Count  Max Word Count  Min Word Count  Top Value Frequency  \n",
      "8             3.02               9               1                 0.00  \n",
      "11            4.02              10               2                 0.00  \n",
      "9            20.97              39               6                 0.00  \n",
      "7             3.15               9               1                 0.00  \n",
      "1             2.67               9               1                 0.04  \n",
      "13            1.02               3               1                 0.06  \n",
      "10            9.76              22               2                 0.09  \n",
      "14            1.00               1               1                 0.10  \n",
      "0             1.00               1               1                 0.10  \n",
      "20            5.66               9               3                 0.11  \n",
      "16            1.43               3               1                 0.21  \n",
      "19            2.23               5               2                 0.25  \n",
      "2             2.57               9               1                 0.25  \n",
      "18            3.17               5               3                 0.42  \n",
      "15            1.01               3               1                 0.46  \n",
      "3             1.12               2               1                 0.51  \n",
      "4             1.00               1               1                 0.54  \n",
      "12            1.00               1               1                 0.57  \n",
      "6             1.40               2               1                 0.60  \n",
      "21            2.57              10               1                 0.62  \n",
      "24            3.37              13               1                 0.63  \n",
      "22            2.25               8               1                 0.63  \n",
      "23            2.94              11               1                 0.63  \n",
      "25            3.19              12               1                 0.63  \n",
      "17            7.15              52               3                 0.71  \n",
      "5             1.18               3               1                 0.82  \n"
     ]
    }
   ],
   "source": [
    "\n",
    "# Select candidate text columns\n",
    "text_columns = ['X_OBJ IfcClass', 'X_OBJ Name', 'X_OBJ Type', 'X_OBJ UoM',\n",
    "       'X_IsExternal', 'X_LoadBearing', 'X_FireRated', 'X_OBJ Keyword',\n",
    "       'PPK Active Object', 'Object Description',\n",
    "       'Uniclass Systems Path','PPK Active Task', ' PPK Active Construction Verb ', \n",
    "       'IfcClass.Type', 'IfcClass', 'IfcEnumerationType', 'Revit Category',\n",
    "       'OD0_Project Type', 'OD1_Discipline', 'OD1_Discipline Split',\n",
    "       'OD2_Subdiscipline', 'Uniclass Products', 'Uniclass Elements',\n",
    "       'Omniclass 21', 'Omniclass 22', 'Omniclass 23'\n",
    "]\n",
    "\n",
    "# Function to evaluate column-wise contribution\n",
    "def evaluate_column_contribution(data, columns):\n",
    "    metrics = []\n",
    "    for col in columns:\n",
    "        col_data = data[col].dropna().astype(str)\n",
    "        num_unique = col_data.nunique()\n",
    "        avg_length = col_data.apply(lambda x: len(x.split())).mean()\n",
    "        max_length = col_data.apply(lambda x: len(x.split())).max()\n",
    "        min_length = col_data.apply(lambda x: len(x.split())).min()\n",
    "        top_freq = col_data.value_counts(normalize=True).iloc[0] if not col_data.empty else 0\n",
    "        metrics.append({\n",
    "            \"Column\": col,\n",
    "            \"Non-Null Count\": col_data.shape[0],\n",
    "            \"Unique Values\": num_unique,\n",
    "            \"Avg Word Count\": round(avg_length, 2),\n",
    "            \"Max Word Count\": max_length,\n",
    "            \"Min Word Count\": min_length,\n",
    "            \"Top Value Frequency\": round(top_freq, 2)  # high = low info\n",
    "        })\n",
    "    return pd.DataFrame(metrics).sort_values(by=\"Top Value Frequency\")\n",
    "\n",
    "# Run evaluation\n",
    "column_metrics = evaluate_column_contribution(data, text_columns)\n",
    "\n",
    "# Show the results\n",
    "print(\"Text Column Usefulness Evaluation\", column_metrics)\n"
   ]
  },
  {
   "cell_type": "markdown",
   "id": "e3a4df9f",
   "metadata": {},
   "source": [
    "* Value Frequency: how repetitive the most common value is if it is high then it is less informative -> less entropy\n",
    "\n",
    "WE will try to train data on required columns along with the columns which can satisfy the condition of low valuw frequency and high Unique values"
   ]
  },
  {
   "cell_type": "code",
   "execution_count": 8,
   "id": "4f10bb18",
   "metadata": {},
   "outputs": [],
   "source": [
    "data[\"input_text\"] = (\n",
    "    \"Name: \" + data[\"X_OBJ Name\"].astype(str).fillna(\"\") + \" | \" +\n",
    "    \"Type: \" + data[\"X_OBJ Type\"].astype(str).fillna(\"\") + \" | \" +\n",
    "    \"Class: \" + data[\"IfcClass.Type\"].astype(str).fillna(\"\") + \" | \" +\n",
    "    \"External: \" + data[\"X_IsExternal\"].astype(str).fillna(\"\") + \" | \" +\n",
    "    \"LoadBearing: \" + data[\"X_LoadBearing\"].astype(str).fillna(\"\") + \" | \" +\n",
    "    \"Keyword: \" + data[\"X_OBJ Keyword\"].astype(str).fillna(\"\") + \" | \" +\n",
    "    \"PPK Active Object:\" + data[\"PPK Active Object\"].astype(str).fillna(\"\") + \" | \" +\n",
    "    \"PPK Active Task:\" + data[\"PPK Active Task\"].astype(str).fillna(\"\") + \" | \" +\n",
    "    \"Object Description:\" + data[\"Object Description\"].astype(str).fillna(\"\") \n",
    ")"
   ]
  },
  {
   "cell_type": "code",
   "execution_count": 9,
   "id": "33a6f847",
   "metadata": {},
   "outputs": [],
   "source": [
    "# Group by Uniclass_Name to reduce duplicates\n",
    "data_grouped = data.groupby(\"Uniclass_Name\")[[\"input_text\", \"Uniclass_Code\"]].agg({\n",
    "    \"input_text\": lambda texts: \" \".join(texts),\n",
    "    \"Uniclass_Code\": \"first\"\n",
    "}).reset_index()\n"
   ]
  },
  {
   "cell_type": "code",
   "execution_count": null,
   "id": "78d4ac27",
   "metadata": {},
   "outputs": [
    {
     "name": "stdout",
     "output_type": "stream",
     "text": [
      " Retrieval complete. Saved to retrieval_results.csv /Users/irenie/Downloads/EIC_Intern/retrieval_results.csv\n"
     ]
    }
   ],
   "source": [
    "\n",
    "from sentence_transformers import SentenceTransformer, util\n",
    "import torch\n",
    "\n",
    "\n",
    "model = SentenceTransformer(\"all-MiniLM-L6-v2\")\n",
    "\n",
    "\n",
    "# Encode all class input_texts\n",
    "class_embeddings = model.encode(data_grouped[\"input_text\"].tolist(), convert_to_tensor=True)\n",
    "\n",
    "# Retrieval function\n",
    "def retrieve_uniclass(input_description, data_grouped, top_k=5):\n",
    "    input_embedding = model.encode(input_description, convert_to_tensor=True)\n",
    "    cosine_scores = util.cos_sim(input_embedding, class_embeddings)[0]\n",
    "    top_results = torch.topk(cosine_scores, k=top_k)\n",
    "\n",
    "    data_grouped = data_grouped.reset_index(drop=True)\n",
    "    results = []\n",
    "    for score, idx in zip(top_results.values, top_results.indices):\n",
    "        i = int(idx)\n",
    "        row = data_grouped.iloc[i]\n",
    "        results.append({\n",
    "            \"Uniclass_Code\": row[\"Uniclass_Code\"],\n",
    "            \"Uniclass_Name\": row[\"Uniclass_Name\"],\n",
    "            \"Similarity\": float(score)\n",
    "        })\n",
    "\n",
    "    return pd.DataFrame(results)\n",
    "\n",
    "# Load new queries to classify\n",
    "query_df = pd.read_csv(\"/Users/irenie/Downloads/X_LIB_R1 REOL(X_MAP_R1 REOL).csv\",encoding='latin1')\n",
    "query_df[\"input_text\"] = (\n",
    "    \"Name: \" + data[\"X_OBJ Name\"].astype(str).fillna(\"\") + \" | \" +\n",
    "    \"Type: \" + data[\"X_OBJ Type\"].astype(str).fillna(\"\") + \" | \" +\n",
    "    \"Class: \" + data[\"IfcClass.Type\"].astype(str).fillna(\"\") + \" | \" +\n",
    "    \"External: \" + data[\"X_IsExternal\"].astype(str).fillna(\"\") + \" | \" +\n",
    "    \"LoadBearing: \" + data[\"X_LoadBearing\"].astype(str).fillna(\"\") + \" | \" +\n",
    "    \"Keyword: \" + data[\"X_OBJ Keyword\"].astype(str).fillna(\"\") + \" | \" +\n",
    "    \"PPK Active Object:\" + data[\"PPK Active Object\"].astype(str).fillna(\"\") + \" | \" +\n",
    "    \"PPK Active Task:\" + data[\"PPK Active Task\"].astype(str).fillna(\"\") + \" | \" +\n",
    "    \"Object Description:\" + data[\"Object Description\"].astype(str).fillna(\"\") \n",
    ")\n",
    "\n",
    "# Apply semantic search\n",
    "batch_results = []\n",
    "for _, row in query_df.iterrows():\n",
    "    result = retrieve_uniclass(row[\"input_text\"], data_grouped, top_k=1).iloc[0]\n",
    "    batch_results.append({\n",
    "        \"X_OBJ Name\": row[\"X_OBJ Name\"],\n",
    "        \"X_OBJ Type\": row[\"X_OBJ Type\"],\n",
    "        \"X_OBJ IfcClass\": row[\"X_OBJ IfcClass\"],\n",
    "        \"X_IsExternal\": row[\"X_IsExternal\"],\n",
    "        \"X_LoadBearing\": row[\"X_LoadBearing\"],\n",
    "        \"X_OBJ Keyword\": row[\"X_OBJ Keyword\"],\n",
    "        \"PPK Active Object\": row[\"PPK Active Object\"],\n",
    "        \"PPK Active Task\": row[\"PPK Active Task\"],\n",
    "        \"Matched_Uniclass_Code\": result[\"Uniclass_Code\"],\n",
    "        \"Matched_Uniclass_Name\": result[\"Uniclass_Name\"],\n",
    "        \"Similarity\": result[\"Similarity\"]\n",
    "    })\n",
    "\n",
    "# Save results\n",
    "pd.DataFrame(batch_results).to_csv(\"retrieval_results.csv\", index=False)\n",
    "print(f\" Retrieval complete. Saved to retrieval_results.csv {os.path.abspath('retrieval_results.csv')}\")\n",
    "\n"
   ]
  },
  {
   "cell_type": "code",
   "execution_count": null,
   "id": "84fda424",
   "metadata": {},
   "outputs": [],
   "source": []
  }
 ],
 "metadata": {
  "kernelspec": {
   "display_name": "my_env",
   "language": "python",
   "name": "python3"
  },
  "language_info": {
   "codemirror_mode": {
    "name": "ipython",
    "version": 3
   },
   "file_extension": ".py",
   "mimetype": "text/x-python",
   "name": "python",
   "nbconvert_exporter": "python",
   "pygments_lexer": "ipython3",
   "version": "3.12.11"
  }
 },
 "nbformat": 4,
 "nbformat_minor": 5
}
